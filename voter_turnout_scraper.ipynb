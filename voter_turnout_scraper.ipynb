{
  "nbformat": 4,
  "nbformat_minor": 0,
  "metadata": {
    "colab": {
      "name": "voter_turnout_scraper.ipynb",
      "version": "0.3.2",
      "provenance": []
    },
    "kernelspec": {
      "name": "python3",
      "display_name": "Python 3"
    }
  },
  "cells": [
    {
      "metadata": {
        "id": "R4AuDUhYKX0J",
        "colab_type": "text"
      },
      "cell_type": "markdown",
      "source": [
        "Introductory information. \n",
        "Basics of how the jupyter notebook works. "
      ]
    },
    {
      "metadata": {
        "id": "AiesaJg35sjE",
        "colab_type": "text"
      },
      "cell_type": "markdown",
      "source": [
        "# Make a new directory and download the file"
      ]
    },
    {
      "metadata": {
        "id": "pvPX8JsiKQdb",
        "colab_type": "code",
        "colab": {}
      },
      "cell_type": "code",
      "source": [
        "# Test information, show how it works"
      ],
      "execution_count": 0,
      "outputs": []
    },
    {
      "metadata": {
        "id": "hmhi8b2-Kifw",
        "colab_type": "text"
      },
      "cell_type": "markdown",
      "source": [
        "The next cell will make the directory, change to it and then display the information.  \n",
        "\n",
        "### IMPORTANT: Change this directory name to the year you are working on!"
      ]
    },
    {
      "metadata": {
        "id": "VbLKA4DuKpP5",
        "colab_type": "code",
        "colab": {
          "base_uri": "https://localhost:8080/",
          "height": 85
        },
        "outputId": "1c3a4966-c632-41bf-9a7a-f76d3006bcbf"
      },
      "cell_type": "code",
      "source": [
        "# Check to see if there is anything in the directory\n",
        "!ls\n",
        "\n",
        "# Make a new directory\n",
        "## CHANGE THIS\n",
        "!mkdir 2018\n",
        "\n",
        "# Change directory\n",
        "## CHANGE THIS\n",
        "%cd '2018'\n",
        "\n",
        "# Make sure we have changed path\n",
        "!pwd"
      ],
      "execution_count": 1,
      "outputs": [
        {
          "output_type": "stream",
          "text": [
            "sample_data\n",
            "2018  sample_data\n",
            "/content/2018\n",
            "/content/2018\n"
          ],
          "name": "stdout"
        }
      ]
    },
    {
      "metadata": {
        "id": "6HtHlbi4Kpn8",
        "colab_type": "text"
      },
      "cell_type": "markdown",
      "source": [
        "Then we will download the file. \n",
        "\n",
        "###IMPORTANT: Change the URL to reflect the file you are working on \n",
        "To do so: \n",
        "\n",
        "1.   Go to the [Github page](https://github.com/amanda-price/decoding-democracy) and navigate to the file you are working on. \n",
        "2.   Click on the file name.\n",
        "3.   In the upper right hand corner, _right click_ the Download button and select \"Copy Link Address\". \n",
        "4.   Paste this address below after _wget_\n",
        "\n",
        "\n"
      ]
    },
    {
      "metadata": {
        "id": "zqmfuNDeK9mf",
        "colab_type": "code",
        "colab": {
          "base_uri": "https://localhost:8080/",
          "height": 306
        },
        "outputId": "eb11ab20-3dad-45aa-b8e4-45717a80ae95"
      },
      "cell_type": "code",
      "source": [
        "# Change the url to the pdf you are interested in\n",
        "!wget https://github.com/amanda-price/decoding-democracy/raw/master/2018/20180807_primary_precinct.pdf\n",
        "\n",
        "\n",
        "#We will then display the list of files to make sure it downloaded\n",
        "!ls"
      ],
      "execution_count": 10,
      "outputs": [
        {
          "output_type": "stream",
          "text": [
            "--2019-03-25 18:48:40--  https://github.com/amanda-price/decoding-democracy/raw/master/2018/20180807_primary_precinct.pdf\n",
            "Resolving github.com (github.com)... 192.30.253.112, 192.30.253.113\n",
            "Connecting to github.com (github.com)|192.30.253.112|:443... connected.\n",
            "HTTP request sent, awaiting response... 302 Found\n",
            "Location: https://raw.githubusercontent.com/amanda-price/decoding-democracy/master/2018/20180807_primary_precinct.pdf [following]\n",
            "--2019-03-25 18:48:41--  https://raw.githubusercontent.com/amanda-price/decoding-democracy/master/2018/20180807_primary_precinct.pdf\n",
            "Resolving raw.githubusercontent.com (raw.githubusercontent.com)... 151.101.0.133, 151.101.64.133, 151.101.128.133, ...\n",
            "Connecting to raw.githubusercontent.com (raw.githubusercontent.com)|151.101.0.133|:443... connected.\n",
            "HTTP request sent, awaiting response... 200 OK\n",
            "Length: 6325734 (6.0M) [application/octet-stream]\n",
            "Saving to: ‘20180807_primary_precinct.pdf’\n",
            "\n",
            "20180807_primary_pr 100%[===================>]   6.03M  --.-KB/s    in 0.08s   \n",
            "\n",
            "2019-03-25 18:48:41 (76.1 MB/s) - ‘20180807_primary_precinct.pdf’ saved [6325734/6325734]\n",
            "\n",
            "20180807_primary_precinct.pdf\n"
          ],
          "name": "stdout"
        }
      ]
    },
    {
      "metadata": {
        "id": "XKZroj1h5u-A",
        "colab_type": "text"
      },
      "cell_type": "markdown",
      "source": [
        "# Load all the necessary packages and functions"
      ]
    },
    {
      "metadata": {
        "id": "kElP4I1l6F74",
        "colab_type": "code",
        "colab": {}
      },
      "cell_type": "code",
      "source": [
        "# Install and load PDF scraper packages\n",
        "!pip install PyPDF2\n",
        "!pip install pdfminer.six\n",
        "!pip install PyMuPDF\n",
        "\n",
        "from PyPDF2 import PdfFileWriter, PdfFileReader\n",
        "import fitz"
      ],
      "execution_count": 0,
      "outputs": []
    },
    {
      "metadata": {
        "id": "4W8UlIPk6NjL",
        "colab_type": "code",
        "colab": {}
      },
      "cell_type": "code",
      "source": [
        "def checkCandidates(candidates):\n",
        "  \n",
        "  # Print out the headers and make sure it matches the pdf\n",
        "  print(\"Does this candidate list match page {}? Y or N\".format(pageNum+1))\n",
        "  print(candidates)\n",
        "  response = input()\n",
        "  \n",
        "  if response.upper() == \"Y\":\n",
        "    return candidates\n",
        "  \n",
        "  else:\n",
        "    # We will generate a new list of candidates based on user input\n",
        "    new_candidates = []\n",
        "    print(\"How many candidates are on page {}?\".format(pageNum+1))\n",
        "    x = input()\n",
        "    print(\"For each of the following questions, enter the candidates in order that they appear, left to right\")\n",
        "    \n",
        "    for item in range(int(x)):\n",
        "      print(\"\\nFor candidate {} of {}: \".format(item+1,int(x)))\n",
        "      editName = True\n",
        "      \n",
        "      while(editName):\n",
        "        print(\"Please type the first name of the candidate: \")\n",
        "        first = input()\n",
        "        print(\"Please type the last name of the candidate: \")\n",
        "        last = input()\n",
        "        print(\"Does {} {} look correct? Y or N\".format(first.upper(),last.upper()))\n",
        "        answer = input()\n",
        "        if answer.upper() == \"Y\":\n",
        "          editName = False\n",
        "          \n",
        "      new_candidates.append(\"{} {}\".format(first.upper(),last.upper()))\n",
        "      \n",
        "    return new_candidates"
      ],
      "execution_count": 0,
      "outputs": []
    },
    {
      "metadata": {
        "id": "RNYJjpMv6S_Z",
        "colab_type": "code",
        "colab": {}
      },
      "cell_type": "code",
      "source": [
        "def scrapeOffice():\n",
        "  global output\n",
        "  global outfile_overall\n",
        "  global prevCandidateList\n",
        "  global colArray, numArray, strArray\n",
        "  global pageNum\n",
        "  \n",
        "  prevCandidateList = []\n",
        "  doc = fitz.open(\"20180807_primary_precinct.pdf\")\n",
        "  \n",
        "  output = open(\"file_test.csv\",\"w\")\n",
        "  outfile_overall = open(\"file_overall.csv\",'w')\n",
        "  \n",
        "\n",
        "  output.write(\"Office,Ward,Precinct,Type of Vote,Candidate, Votes\\n\")\n",
        "  outfile_overall.write(\"Office,Ward,Precinct,Type of Vote, Reg. Voters, Times Counted, Total Votes\\n\")\n",
        "  \n",
        "  # These will be defined on the first page, but needs to be initialized\n",
        "  currentWard = 0\n",
        "  currentPrecinct = 0\n",
        "  startFlag = False\n",
        "  #for i in range(doc.pageCount):\n",
        "  for pageNum in range(0,doc.pageCount):\n",
        "    page = doc.loadPage(pageNum) \n",
        "    text = page.getText(\"text\")\n",
        "    \n",
        "    numFlag = False\n",
        "    rowFlag = False\n",
        "    strFlag = False\n",
        "    colFlag = False\n",
        "    \n",
        "    \n",
        "    numArray,strArray,colArray = [],[],[]\n",
        "\n",
        "  \n",
        "    lines = text.split('\\n')\n",
        "    for line in lines:\n",
        "      row = line.strip()\n",
        "      #print(\"new row: {}\".format(row))\n",
        "           \n",
        "      if row.isdigit():\n",
        "        colFlag = False\n",
        "        numFlag = True\n",
        "        #print(\"This is a table row: {}\".format(row))\n",
        "         \n",
        "      if rowFlag:\n",
        "        if row.startswith(\"CITYWIDE\"):\n",
        "          continue\n",
        "        elif not row.startswith(\"W\") and not row.startswith(\"Polling\") and not row.startswith(\"ABSENTEE\") and not row.startswith(\"PROVISIONAL\") and not row.startswith(\"HOUSE\") and not row.startswith(\"Total\"):\n",
        "          colFlag = True\n",
        "          rowFlag = False\n",
        "          pass\n",
        "        \n",
        "        if row.startswith(\"W\"):\n",
        "          currentWard = row[2:4]\n",
        "          currentPrecinct = row[7:9]\n",
        "          count = 0\n",
        "        else:\n",
        "          #if row.startswith(\"Polling\"):\n",
        "          #  startFlag=True\n",
        "          \n",
        "          #if startFlag:\n",
        "          if count < 6:\n",
        "            strArray.append(\"{},{},{}\".format(currentWard,currentPrecinct,row))\n",
        "            count = count+1\n",
        "          #if row.startswith(\"Total\"):        \n",
        "          #  startFlag= False\n",
        "\n",
        "      if row.startswith(\"Page:\"):\n",
        "        #print(row)\n",
        "        rowFlag = True\n",
        "        \n",
        "      if numFlag:\n",
        "        if not row == \"\":\n",
        "          if row.endswith('%'):\n",
        "            splitting = row.split(\" \")\n",
        "            for i in splitting:\n",
        "              \n",
        "              if not i.endswith(\"%\"):\n",
        "                numArray.append(i)\n",
        "          elif row == \"-\":\n",
        "            pass\n",
        "          else:\n",
        "            numArray.append(row)\n",
        "      \n",
        "      if colFlag:\n",
        "        if not row == \"\":\n",
        "          #print(row)\n",
        "          if row.startswith(\"Times\"):\n",
        "            colArray.append(\"Times Counted\")\n",
        "          elif row.startswith(\"Counted\"):\n",
        "            pass\n",
        "          else:\n",
        "            colArray.append(row)\n",
        "    print(colArray)\n",
        "    if len(strArray) > 0:\n",
        "      writePage()"
      ],
      "execution_count": 0,
      "outputs": []
    },
    {
      "metadata": {
        "id": "RXrNxWdK55sS",
        "colab_type": "text"
      },
      "cell_type": "markdown",
      "source": [
        "# Run the program"
      ]
    },
    {
      "metadata": {
        "id": "w2lalPGZqW8V",
        "colab_type": "code",
        "colab": {}
      },
      "cell_type": "code",
      "source": [
        "scrapeOffice()"
      ],
      "execution_count": 0,
      "outputs": []
    }
  ]
}